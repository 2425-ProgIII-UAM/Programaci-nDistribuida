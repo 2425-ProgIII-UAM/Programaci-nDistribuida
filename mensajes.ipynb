{
 "cells": [
  {
   "cell_type": "markdown",
   "id": "22c139c7-aa24-41be-a8cd-ac627f1b4b02",
   "metadata": {},
   "source": [
    "# Programación concurrente y Distribuida mediante paso de mensajes"
   ]
  }
 ],
 "metadata": {
  "kernelspec": {
   "display_name": "Python 3 (ipykernel)",
   "language": "python",
   "name": "python3"
  },
  "language_info": {
   "codemirror_mode": {
    "name": "ipython",
    "version": 3
   },
   "file_extension": ".py",
   "mimetype": "text/x-python",
   "name": "python",
   "nbconvert_exporter": "python",
   "pygments_lexer": "ipython3",
   "version": "3.12.3"
  }
 },
 "nbformat": 4,
 "nbformat_minor": 5
}
