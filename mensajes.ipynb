{
 "cells": [
  {
   "cell_type": "markdown",
   "id": "22c139c7-aa24-41be-a8cd-ac627f1b4b02",
   "metadata": {},
   "source": [
    "# Programación concurrente y Distribuida mediante paso de mensajes\n",
    "\n",
    "Hasta ahora habíamos visto mecanismos de progrmación concurrente con memoria compartida. Sin embargo, para sistemas distribudos, necesitamos otros mecanismos, ya que los procesos no peuden compartir memoria al estar en sistemas diferentes.\n",
    "\n",
    "Comunicación: emisor, receptor, mensaje y canal\n",
    "\n",
    "- Asíncrona: mensajes, correos, etc.\n",
    "\n",
    "- Síncrona: llamadas telefónicas, videollamadas, etc.\n",
    "\n",
    "Una de las formas de usar los mecanismos de programaión concurrente y dstribuida con mensajes es el uso de colas, que nos permite no solo enviar mensajes sino también almacenarlos hasta su procesamiento. En python podemos usar colas para paso de mensajes entre [procesos](https://docs.python.org/3/library/multiprocessing.html#multiprocessing.Queue) e [hilos](https://docs.python.org/3/library/queue.html#queue.Queue). Nota: si el sistema es distribuido habrá que usar necesariamenet comunicación entre procesos, ya que los hilos precisan de memoria compartida tanto para compartir instrucciones como datos.\n",
    "\n",
    "La siguiente tabla muestra las diferencias entre usar variables u objetos de condición y colas. En clase hicimos el ejercicio de las [citas médicas](https://moodle.uam.es/mod/assign/view.php?id=3016564), usando colas en lugar de variables de condición.  \n",
    "\n",
    "|Condition|\tQueue|\n",
    "|---|---|\n",
    "|notify|\tput (mensaje)|\n",
    "|wait|\tget|\n",
    "|acquire\t|-|\n",
    "|release\t|-|\n",
    "\n"
   ]
  },
  {
   "cell_type": "markdown",
   "id": "a62c5dda-de5a-4fe2-b9d7-c94b0878f88a",
   "metadata": {},
   "source": [
    "## Invocación Remota: Remote Procedure Calls y Remote Method Invocations\n",
    "\n",
    "Llamandas sin esperar respuesta vs llamadas que eperan respuesta (Invocación remota o encuentros extendidos (extended rendervouz))\n",
    "\n",
    "En python podemos usar PYRO para hacer invocaciones remotas orientadas a objetos.\n"
   ]
  },
  {
   "cell_type": "markdown",
   "id": "9b6c325b-7aea-4972-9942-4ab1b9d54a30",
   "metadata": {},
   "source": [
    "## Presentación Optimizaciones de la Práctica 1"
   ]
  },
  {
   "cell_type": "code",
   "execution_count": null,
   "id": "36394fd7-c899-4e09-95f2-698f7f4aac4a",
   "metadata": {},
   "outputs": [],
   "source": [
    "## Próxima clase\n",
    " - Presentaciones:\n",
    "   - Seguridad en Sistemas distribuidos\n",
    "   - Sistemas de Tiempo Real\n",
    "   - Blockchain\n",
    "   - IPFS\n",
    "   - CRDTs\n",
    "   - git .."
   ]
  },
  {
   "cell_type": "code",
   "execution_count": 1,
   "id": "46585a23-6754-4acd-83b9-a771ccf065ad",
   "metadata": {},
   "outputs": [
    {
     "name": "stdout",
     "output_type": "stream",
     "text": [
      "HOLA MUNDO\n"
     ]
    }
   ],
   "source": [
    "print('HOLA MUNDO')"
   ]
  },
  {
   "cell_type": "code",
   "execution_count": null,
   "id": "7be113ec-5e0e-4ed1-9e25-d29f119b2156",
   "metadata": {},
   "outputs": [],
   "source": []
  }
 ],
 "metadata": {
  "kernelspec": {
   "display_name": "Python 3 (ipykernel)",
   "language": "python",
   "name": "python3"
  },
  "language_info": {
   "codemirror_mode": {
    "name": "ipython",
    "version": 3
   },
   "file_extension": ".py",
   "mimetype": "text/x-python",
   "name": "python",
   "nbconvert_exporter": "python",
   "pygments_lexer": "ipython3",
   "version": "3.12.3"
  }
 },
 "nbformat": 4,
 "nbformat_minor": 5
}
